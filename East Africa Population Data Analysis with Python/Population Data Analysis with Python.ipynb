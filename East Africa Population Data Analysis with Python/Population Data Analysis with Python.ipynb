{
 "cells": [
  {
   "cell_type": "code",
   "execution_count": 55,
   "metadata": {},
   "outputs": [],
   "source": [
    "import pandas as pd\n",
    "import matplotlib.pyplot as plt "
   ]
  },
  {
   "cell_type": "code",
   "execution_count": 4,
   "metadata": {},
   "outputs": [],
   "source": [
    "df_population_raw = pd.read_csv('population_total.csv')"
   ]
  },
  {
   "cell_type": "code",
   "execution_count": 5,
   "metadata": {},
   "outputs": [
    {
     "data": {
      "text/html": [
       "<div>\n",
       "<style scoped>\n",
       "    .dataframe tbody tr th:only-of-type {\n",
       "        vertical-align: middle;\n",
       "    }\n",
       "\n",
       "    .dataframe tbody tr th {\n",
       "        vertical-align: top;\n",
       "    }\n",
       "\n",
       "    .dataframe thead th {\n",
       "        text-align: right;\n",
       "    }\n",
       "</style>\n",
       "<table border=\"1\" class=\"dataframe\">\n",
       "  <thead>\n",
       "    <tr style=\"text-align: right;\">\n",
       "      <th></th>\n",
       "      <th>country</th>\n",
       "      <th>year</th>\n",
       "      <th>population</th>\n",
       "    </tr>\n",
       "  </thead>\n",
       "  <tbody>\n",
       "    <tr>\n",
       "      <th>0</th>\n",
       "      <td>China</td>\n",
       "      <td>2020.0</td>\n",
       "      <td>1.439324e+09</td>\n",
       "    </tr>\n",
       "    <tr>\n",
       "      <th>1</th>\n",
       "      <td>China</td>\n",
       "      <td>2019.0</td>\n",
       "      <td>1.433784e+09</td>\n",
       "    </tr>\n",
       "    <tr>\n",
       "      <th>2</th>\n",
       "      <td>China</td>\n",
       "      <td>2018.0</td>\n",
       "      <td>1.427648e+09</td>\n",
       "    </tr>\n",
       "    <tr>\n",
       "      <th>3</th>\n",
       "      <td>China</td>\n",
       "      <td>2017.0</td>\n",
       "      <td>1.421022e+09</td>\n",
       "    </tr>\n",
       "    <tr>\n",
       "      <th>4</th>\n",
       "      <td>China</td>\n",
       "      <td>2016.0</td>\n",
       "      <td>1.414049e+09</td>\n",
       "    </tr>\n",
       "    <tr>\n",
       "      <th>...</th>\n",
       "      <td>...</td>\n",
       "      <td>...</td>\n",
       "      <td>...</td>\n",
       "    </tr>\n",
       "    <tr>\n",
       "      <th>4180</th>\n",
       "      <td>United States</td>\n",
       "      <td>1965.0</td>\n",
       "      <td>1.997337e+08</td>\n",
       "    </tr>\n",
       "    <tr>\n",
       "      <th>4181</th>\n",
       "      <td>United States</td>\n",
       "      <td>1960.0</td>\n",
       "      <td>1.867206e+08</td>\n",
       "    </tr>\n",
       "    <tr>\n",
       "      <th>4182</th>\n",
       "      <td>United States</td>\n",
       "      <td>1955.0</td>\n",
       "      <td>1.716853e+08</td>\n",
       "    </tr>\n",
       "    <tr>\n",
       "      <th>4183</th>\n",
       "      <td>India</td>\n",
       "      <td>1960.0</td>\n",
       "      <td>4.505477e+08</td>\n",
       "    </tr>\n",
       "    <tr>\n",
       "      <th>4184</th>\n",
       "      <td>India</td>\n",
       "      <td>1955.0</td>\n",
       "      <td>4.098806e+08</td>\n",
       "    </tr>\n",
       "  </tbody>\n",
       "</table>\n",
       "<p>4185 rows × 3 columns</p>\n",
       "</div>"
      ],
      "text/plain": [
       "            country    year    population\n",
       "0             China  2020.0  1.439324e+09\n",
       "1             China  2019.0  1.433784e+09\n",
       "2             China  2018.0  1.427648e+09\n",
       "3             China  2017.0  1.421022e+09\n",
       "4             China  2016.0  1.414049e+09\n",
       "...             ...     ...           ...\n",
       "4180  United States  1965.0  1.997337e+08\n",
       "4181  United States  1960.0  1.867206e+08\n",
       "4182  United States  1955.0  1.716853e+08\n",
       "4183          India  1960.0  4.505477e+08\n",
       "4184          India  1955.0  4.098806e+08\n",
       "\n",
       "[4185 rows x 3 columns]"
      ]
     },
     "execution_count": 5,
     "metadata": {},
     "output_type": "execute_result"
    }
   ],
   "source": [
    "df_population_raw"
   ]
  },
  {
   "cell_type": "code",
   "execution_count": 9,
   "metadata": {},
   "outputs": [],
   "source": [
    "#drop null values and permanently save changes in table using inplace = True argument\n",
    "df_population_raw.dropna(inplace=True)"
   ]
  },
  {
   "cell_type": "code",
   "execution_count": 19,
   "metadata": {},
   "outputs": [],
   "source": [
    "df_pivot = df_population_raw.pivot(index='year', columns = 'country', values = 'population')"
   ]
  },
  {
   "cell_type": "code",
   "execution_count": 20,
   "metadata": {},
   "outputs": [],
   "source": [
    "df_pivot = df_pivot[['Kenya', 'Uganda', 'Tanzania', 'Ethiopia', 'Somalia']]"
   ]
  },
  {
   "cell_type": "code",
   "execution_count": 21,
   "metadata": {},
   "outputs": [
    {
     "data": {
      "text/html": [
       "<div>\n",
       "<style scoped>\n",
       "    .dataframe tbody tr th:only-of-type {\n",
       "        vertical-align: middle;\n",
       "    }\n",
       "\n",
       "    .dataframe tbody tr th {\n",
       "        vertical-align: top;\n",
       "    }\n",
       "\n",
       "    .dataframe thead th {\n",
       "        text-align: right;\n",
       "    }\n",
       "</style>\n",
       "<table border=\"1\" class=\"dataframe\">\n",
       "  <thead>\n",
       "    <tr style=\"text-align: right;\">\n",
       "      <th>country</th>\n",
       "      <th>Kenya</th>\n",
       "      <th>Uganda</th>\n",
       "      <th>Tanzania</th>\n",
       "      <th>Ethiopia</th>\n",
       "      <th>Somalia</th>\n",
       "    </tr>\n",
       "    <tr>\n",
       "      <th>year</th>\n",
       "      <th></th>\n",
       "      <th></th>\n",
       "      <th></th>\n",
       "      <th></th>\n",
       "      <th></th>\n",
       "    </tr>\n",
       "  </thead>\n",
       "  <tbody>\n",
       "    <tr>\n",
       "      <th>1955.0</th>\n",
       "      <td>6987658.0</td>\n",
       "      <td>5888793.0</td>\n",
       "      <td>8729662.0</td>\n",
       "      <td>19947292.0</td>\n",
       "      <td>2491542.0</td>\n",
       "    </tr>\n",
       "    <tr>\n",
       "      <th>1960.0</th>\n",
       "      <td>8120080.0</td>\n",
       "      <td>6767095.0</td>\n",
       "      <td>10052152.0</td>\n",
       "      <td>22151278.0</td>\n",
       "      <td>2755972.0</td>\n",
       "    </tr>\n",
       "    <tr>\n",
       "      <th>1965.0</th>\n",
       "      <td>9530173.0</td>\n",
       "      <td>7986066.0</td>\n",
       "      <td>11634832.0</td>\n",
       "      <td>25013626.0</td>\n",
       "      <td>3068459.0</td>\n",
       "    </tr>\n",
       "    <tr>\n",
       "      <th>1970.0</th>\n",
       "      <td>11301394.0</td>\n",
       "      <td>9405600.0</td>\n",
       "      <td>13535481.0</td>\n",
       "      <td>28415077.0</td>\n",
       "      <td>3444568.0</td>\n",
       "    </tr>\n",
       "    <tr>\n",
       "      <th>1975.0</th>\n",
       "      <td>13575907.0</td>\n",
       "      <td>10737403.0</td>\n",
       "      <td>15885229.0</td>\n",
       "      <td>32566854.0</td>\n",
       "      <td>3880292.0</td>\n",
       "    </tr>\n",
       "    <tr>\n",
       "      <th>1980.0</th>\n",
       "      <td>16417197.0</td>\n",
       "      <td>12442334.0</td>\n",
       "      <td>18538259.0</td>\n",
       "      <td>35141712.0</td>\n",
       "      <td>6281134.0</td>\n",
       "    </tr>\n",
       "    <tr>\n",
       "      <th>1985.0</th>\n",
       "      <td>19877083.0</td>\n",
       "      <td>14559355.0</td>\n",
       "      <td>21633796.0</td>\n",
       "      <td>40652141.0</td>\n",
       "      <td>6648627.0</td>\n",
       "    </tr>\n",
       "    <tr>\n",
       "      <th>1990.0</th>\n",
       "      <td>23724579.0</td>\n",
       "      <td>17354392.0</td>\n",
       "      <td>25203845.0</td>\n",
       "      <td>47887865.0</td>\n",
       "      <td>7225092.0</td>\n",
       "    </tr>\n",
       "    <tr>\n",
       "      <th>1995.0</th>\n",
       "      <td>27768296.0</td>\n",
       "      <td>20413152.0</td>\n",
       "      <td>29649135.0</td>\n",
       "      <td>57047908.0</td>\n",
       "      <td>7491637.0</td>\n",
       "    </tr>\n",
       "    <tr>\n",
       "      <th>2000.0</th>\n",
       "      <td>31964557.0</td>\n",
       "      <td>23650172.0</td>\n",
       "      <td>33499180.0</td>\n",
       "      <td>66224804.0</td>\n",
       "      <td>8872254.0</td>\n",
       "    </tr>\n",
       "    <tr>\n",
       "      <th>2005.0</th>\n",
       "      <td>36624895.0</td>\n",
       "      <td>27684585.0</td>\n",
       "      <td>38450320.0</td>\n",
       "      <td>76346311.0</td>\n",
       "      <td>10446863.0</td>\n",
       "    </tr>\n",
       "    <tr>\n",
       "      <th>2010.0</th>\n",
       "      <td>42030676.0</td>\n",
       "      <td>32428167.0</td>\n",
       "      <td>44346525.0</td>\n",
       "      <td>87639964.0</td>\n",
       "      <td>12043883.0</td>\n",
       "    </tr>\n",
       "    <tr>\n",
       "      <th>2015.0</th>\n",
       "      <td>47878336.0</td>\n",
       "      <td>38225453.0</td>\n",
       "      <td>51482633.0</td>\n",
       "      <td>100835458.0</td>\n",
       "      <td>13797201.0</td>\n",
       "    </tr>\n",
       "    <tr>\n",
       "      <th>2016.0</th>\n",
       "      <td>49051534.0</td>\n",
       "      <td>39649166.0</td>\n",
       "      <td>53049230.0</td>\n",
       "      <td>103603462.0</td>\n",
       "      <td>14185636.0</td>\n",
       "    </tr>\n",
       "    <tr>\n",
       "      <th>2017.0</th>\n",
       "      <td>50221142.0</td>\n",
       "      <td>41166588.0</td>\n",
       "      <td>54660339.0</td>\n",
       "      <td>106399924.0</td>\n",
       "      <td>14589179.0</td>\n",
       "    </tr>\n",
       "    <tr>\n",
       "      <th>2018.0</th>\n",
       "      <td>51392565.0</td>\n",
       "      <td>42729036.0</td>\n",
       "      <td>56313438.0</td>\n",
       "      <td>109224414.0</td>\n",
       "      <td>15008226.0</td>\n",
       "    </tr>\n",
       "    <tr>\n",
       "      <th>2019.0</th>\n",
       "      <td>52573973.0</td>\n",
       "      <td>44269594.0</td>\n",
       "      <td>58005463.0</td>\n",
       "      <td>112078730.0</td>\n",
       "      <td>15442905.0</td>\n",
       "    </tr>\n",
       "    <tr>\n",
       "      <th>2020.0</th>\n",
       "      <td>53771296.0</td>\n",
       "      <td>45741007.0</td>\n",
       "      <td>59734218.0</td>\n",
       "      <td>114963588.0</td>\n",
       "      <td>15893222.0</td>\n",
       "    </tr>\n",
       "  </tbody>\n",
       "</table>\n",
       "</div>"
      ],
      "text/plain": [
       "country       Kenya      Uganda    Tanzania     Ethiopia     Somalia\n",
       "year                                                                \n",
       "1955.0    6987658.0   5888793.0   8729662.0   19947292.0   2491542.0\n",
       "1960.0    8120080.0   6767095.0  10052152.0   22151278.0   2755972.0\n",
       "1965.0    9530173.0   7986066.0  11634832.0   25013626.0   3068459.0\n",
       "1970.0   11301394.0   9405600.0  13535481.0   28415077.0   3444568.0\n",
       "1975.0   13575907.0  10737403.0  15885229.0   32566854.0   3880292.0\n",
       "1980.0   16417197.0  12442334.0  18538259.0   35141712.0   6281134.0\n",
       "1985.0   19877083.0  14559355.0  21633796.0   40652141.0   6648627.0\n",
       "1990.0   23724579.0  17354392.0  25203845.0   47887865.0   7225092.0\n",
       "1995.0   27768296.0  20413152.0  29649135.0   57047908.0   7491637.0\n",
       "2000.0   31964557.0  23650172.0  33499180.0   66224804.0   8872254.0\n",
       "2005.0   36624895.0  27684585.0  38450320.0   76346311.0  10446863.0\n",
       "2010.0   42030676.0  32428167.0  44346525.0   87639964.0  12043883.0\n",
       "2015.0   47878336.0  38225453.0  51482633.0  100835458.0  13797201.0\n",
       "2016.0   49051534.0  39649166.0  53049230.0  103603462.0  14185636.0\n",
       "2017.0   50221142.0  41166588.0  54660339.0  106399924.0  14589179.0\n",
       "2018.0   51392565.0  42729036.0  56313438.0  109224414.0  15008226.0\n",
       "2019.0   52573973.0  44269594.0  58005463.0  112078730.0  15442905.0\n",
       "2020.0   53771296.0  45741007.0  59734218.0  114963588.0  15893222.0"
      ]
     },
     "execution_count": 21,
     "metadata": {},
     "output_type": "execute_result"
    }
   ],
   "source": [
    "df_pivot"
   ]
  },
  {
   "cell_type": "markdown",
   "metadata": {},
   "source": [
    "#LINE PLOT"
   ]
  },
  {
   "cell_type": "code",
   "execution_count": 56,
   "metadata": {},
   "outputs": [
    {
     "data": {
      "image/png": "[encoded data removed]",
      "text/plain": [
       "<Figure size 576x288 with 1 Axes>"
      ]
     },
     "metadata": {
      "needs_background": "light"
     },
     "output_type": "display_data"
    }
   ],
   "source": [
    "df_pivot.plot(kind='line', title = 'Population from (1955-2020)', figsize = (8,4))\n",
    "\n",
    "\n",
    "plt.savefig('f_line_chart.png')\n",
    "plt.show()"
   ]
  },
  {
   "cell_type": "markdown",
   "metadata": {},
   "source": [
    "#barchart plot"
   ]
  },
  {
   "cell_type": "code",
   "execution_count": 32,
   "metadata": {},
   "outputs": [],
   "source": [
    "df_pivot_2020 = df_pivot[df_pivot.index.isin([2020])]"
   ]
  },
  {
   "cell_type": "code",
   "execution_count": 33,
   "metadata": {},
   "outputs": [
    {
     "data": {
      "text/html": [
       "<div>\n",
       "<style scoped>\n",
       "    .dataframe tbody tr th:only-of-type {\n",
       "        vertical-align: middle;\n",
       "    }\n",
       "\n",
       "    .dataframe tbody tr th {\n",
       "        vertical-align: top;\n",
       "    }\n",
       "\n",
       "    .dataframe thead th {\n",
       "        text-align: right;\n",
       "    }\n",
       "</style>\n",
       "<table border=\"1\" class=\"dataframe\">\n",
       "  <thead>\n",
       "    <tr style=\"text-align: right;\">\n",
       "      <th>country</th>\n",
       "      <th>Kenya</th>\n",
       "      <th>Uganda</th>\n",
       "      <th>Tanzania</th>\n",
       "      <th>Ethiopia</th>\n",
       "      <th>Somalia</th>\n",
       "    </tr>\n",
       "    <tr>\n",
       "      <th>year</th>\n",
       "      <th></th>\n",
       "      <th></th>\n",
       "      <th></th>\n",
       "      <th></th>\n",
       "      <th></th>\n",
       "    </tr>\n",
       "  </thead>\n",
       "  <tbody>\n",
       "    <tr>\n",
       "      <th>2020.0</th>\n",
       "      <td>53771296.0</td>\n",
       "      <td>45741007.0</td>\n",
       "      <td>59734218.0</td>\n",
       "      <td>114963588.0</td>\n",
       "      <td>15893222.0</td>\n",
       "    </tr>\n",
       "  </tbody>\n",
       "</table>\n",
       "</div>"
      ],
      "text/plain": [
       "country       Kenya      Uganda    Tanzania     Ethiopia     Somalia\n",
       "year                                                                \n",
       "2020.0   53771296.0  45741007.0  59734218.0  114963588.0  15893222.0"
      ]
     },
     "execution_count": 33,
     "metadata": {},
     "output_type": "execute_result"
    }
   ],
   "source": [
    "df_pivot_2020"
   ]
  },
  {
   "cell_type": "code",
   "execution_count": 48,
   "metadata": {},
   "outputs": [],
   "source": [
    "#always transpose before making bar plot\n",
    "df_pop = df_pivot_2020.T"
   ]
  },
  {
   "cell_type": "code",
   "execution_count": 39,
   "metadata": {},
   "outputs": [
    {
     "data": {
      "text/plain": [
       "<matplotlib.axes._subplots.AxesSubplot at 0x21d9da26160>"
      ]
     },
     "execution_count": 39,
     "metadata": {},
     "output_type": "execute_result"
    },
    {
     "data": {
      "image/png": "[encoded data removed]",
      "text/plain": [
       "<Figure size 576x288 with 1 Axes>"
      ]
     },
     "metadata": {
      "needs_background": "light"
     },
     "output_type": "display_data"
    }
   ],
   "source": [
    "df_pivot_2020.plot(kind='bar',title = 'Population in 2020' ,figsize = (8,4))"
   ]
  },
  {
   "cell_type": "markdown",
   "metadata": {},
   "source": [
    "#Barplots grouped by n variables"
   ]
  },
  {
   "cell_type": "code",
   "execution_count": 41,
   "metadata": {},
   "outputs": [],
   "source": [
    "df_pivot_sample = df_pivot[df_pivot.index.isin([1980, 1990, 2000, 2010,2020])]"
   ]
  },
  {
   "cell_type": "code",
   "execution_count": 43,
   "metadata": {},
   "outputs": [
    {
     "data": {
      "text/html": [
       "<div>\n",
       "<style scoped>\n",
       "    .dataframe tbody tr th:only-of-type {\n",
       "        vertical-align: middle;\n",
       "    }\n",
       "\n",
       "    .dataframe tbody tr th {\n",
       "        vertical-align: top;\n",
       "    }\n",
       "\n",
       "    .dataframe thead th {\n",
       "        text-align: right;\n",
       "    }\n",
       "</style>\n",
       "<table border=\"1\" class=\"dataframe\">\n",
       "  <thead>\n",
       "    <tr style=\"text-align: right;\">\n",
       "      <th>country</th>\n",
       "      <th>Kenya</th>\n",
       "      <th>Uganda</th>\n",
       "      <th>Tanzania</th>\n",
       "      <th>Ethiopia</th>\n",
       "      <th>Somalia</th>\n",
       "    </tr>\n",
       "    <tr>\n",
       "      <th>year</th>\n",
       "      <th></th>\n",
       "      <th></th>\n",
       "      <th></th>\n",
       "      <th></th>\n",
       "      <th></th>\n",
       "    </tr>\n",
       "  </thead>\n",
       "  <tbody>\n",
       "    <tr>\n",
       "      <th>1980.0</th>\n",
       "      <td>16417197.0</td>\n",
       "      <td>12442334.0</td>\n",
       "      <td>18538259.0</td>\n",
       "      <td>35141712.0</td>\n",
       "      <td>6281134.0</td>\n",
       "    </tr>\n",
       "    <tr>\n",
       "      <th>1990.0</th>\n",
       "      <td>23724579.0</td>\n",
       "      <td>17354392.0</td>\n",
       "      <td>25203845.0</td>\n",
       "      <td>47887865.0</td>\n",
       "      <td>7225092.0</td>\n",
       "    </tr>\n",
       "    <tr>\n",
       "      <th>2000.0</th>\n",
       "      <td>31964557.0</td>\n",
       "      <td>23650172.0</td>\n",
       "      <td>33499180.0</td>\n",
       "      <td>66224804.0</td>\n",
       "      <td>8872254.0</td>\n",
       "    </tr>\n",
       "    <tr>\n",
       "      <th>2010.0</th>\n",
       "      <td>42030676.0</td>\n",
       "      <td>32428167.0</td>\n",
       "      <td>44346525.0</td>\n",
       "      <td>87639964.0</td>\n",
       "      <td>12043883.0</td>\n",
       "    </tr>\n",
       "    <tr>\n",
       "      <th>2020.0</th>\n",
       "      <td>53771296.0</td>\n",
       "      <td>45741007.0</td>\n",
       "      <td>59734218.0</td>\n",
       "      <td>114963588.0</td>\n",
       "      <td>15893222.0</td>\n",
       "    </tr>\n",
       "  </tbody>\n",
       "</table>\n",
       "</div>"
      ],
      "text/plain": [
       "country       Kenya      Uganda    Tanzania     Ethiopia     Somalia\n",
       "year                                                                \n",
       "1980.0   16417197.0  12442334.0  18538259.0   35141712.0   6281134.0\n",
       "1990.0   23724579.0  17354392.0  25203845.0   47887865.0   7225092.0\n",
       "2000.0   31964557.0  23650172.0  33499180.0   66224804.0   8872254.0\n",
       "2010.0   42030676.0  32428167.0  44346525.0   87639964.0  12043883.0\n",
       "2020.0   53771296.0  45741007.0  59734218.0  114963588.0  15893222.0"
      ]
     },
     "execution_count": 43,
     "metadata": {},
     "output_type": "execute_result"
    }
   ],
   "source": [
    "df_pivot_sample"
   ]
  },
  {
   "cell_type": "code",
   "execution_count": 44,
   "metadata": {},
   "outputs": [
    {
     "data": {
      "text/plain": [
       "<matplotlib.axes._subplots.AxesSubplot at 0x21d9daab640>"
      ]
     },
     "execution_count": 44,
     "metadata": {},
     "output_type": "execute_result"
    },
    {
     "data": {
      "image/png": "[encoded data removed]",
      "text/plain": [
       "<Figure size 432x288 with 1 Axes>"
      ]
     },
     "metadata": {
      "needs_background": "light"
     },
     "output_type": "display_data"
    }
   ],
   "source": [
    "df_pivot_sample.plot(kind='bar')"
   ]
  },
  {
   "cell_type": "markdown",
   "metadata": {},
   "source": [
    "making pie chart"
   ]
  },
  {
   "cell_type": "code",
   "execution_count": 51,
   "metadata": {},
   "outputs": [],
   "source": [
    "df_pop.rename(columns = {2020:'2020'}, inplace=True)"
   ]
  },
  {
   "cell_type": "code",
   "execution_count": 54,
   "metadata": {},
   "outputs": [
    {
     "data": {
      "text/plain": [
       "<matplotlib.axes._subplots.AxesSubplot at 0x21d9dab8760>"
      ]
     },
     "execution_count": 54,
     "metadata": {},
     "output_type": "execute_result"
    },
    {
     "data": {
      "image/png": "[encoded data removed]",
      "text/plain": [
       "<Figure size 432x288 with 1 Axes>"
      ]
     },
     "metadata": {},
     "output_type": "display_data"
    }
   ],
   "source": [
    "df_pop.plot(kind='pie', y='2020', title = '% Population in 2020')\n",
    "\n"
   ]
  },
  {
   "cell_type": "markdown",
   "metadata": {},
   "source": [
    "Export pivot table to excel"
   ]
  },
  {
   "cell_type": "code",
   "execution_count": 58,
   "metadata": {},
   "outputs": [],
   "source": [
    "df_pivot.to_excel('pivot_table.xlsx')"
   ]
  },
  {
   "cell_type": "markdown",
   "metadata": {},
   "source": [
    "save chart on the same folder as jupyter notebooks "
   ]
  },
  {
   "cell_type": "code",
   "execution_count": 59,
   "metadata": {},
   "outputs": [
    {
     "data": {
      "image/png": "[encoded data removed]",
      "text/plain": [
       "<Figure size 576x288 with 1 Axes>"
      ]
     },
     "metadata": {
      "needs_background": "light"
     },
     "output_type": "display_data"
    }
   ],
   "source": [
    "df_pivot.plot(kind='line', title = 'Population from (1955-2020)', figsize = (8,4))\n",
    "\n",
    "\n",
    "plt.savefig('f_line_chart.png')\n",
    "plt.show()"
   ]
  },
  {
   "cell_type": "code",
   "execution_count": null,
   "metadata": {},
   "outputs": [],
   "source": []
  }
 ],
 "metadata": {
  "kernelspec": {
   "display_name": "Python 3 (ipykernel)",
   "language": "python",
   "name": "python3"
  },
  "language_info": {
   "codemirror_mode": {
    "name": "ipython",
    "version": 3
   },
   "file_extension": ".py",
   "mimetype": "text/x-python",
   "name": "python",
   "nbconvert_exporter": "python",
   "pygments_lexer": "ipython3",
   "version": "3.9.13"
  }
 },
 "nbformat": 4,
 "nbformat_minor": 4
}
